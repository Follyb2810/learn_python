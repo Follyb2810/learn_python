{
 "cells": [
  {
   "cell_type": "code",
   "execution_count": 19,
   "id": "ab1725f3-f3b9-47a7-8b75-8c197a765381",
   "metadata": {},
   "outputs": [],
   "source": [
    "import pandas as pd\n",
    "from sklearn.tree import DecisionTreeClassifier\n",
    "from sklearn import tree\n",
    "\n",
    "# Load data\n",
    "df = pd.read_csv(\"music.csv\")  # Ensure this file exists and has 'genre', 'age', 'gender' columns\n",
    "\n",
    "# Prepare input and output\n",
    "X = df.drop(columns=['genre'])  # Input features\n",
    "y = df['genre']                 # Output label\n",
    "\n",
    "# Create and train model\n",
    "model = DecisionTreeClassifier()\n",
    "model.fit(X, y)\n",
    "\n",
    "# Export the decision tree to a .dot file (used for visualization)\n",
    "tree.export_graphviz(\n",
    "    model,\n",
    "    out_file='music-recommendation.dot',\n",
    "    feature_names=['age', 'gender'],       # ✅ Corrected: feature_names (not feature_name)\n",
    "    class_names=sorted(y.unique()),        # ✅ Corrected: class_names (not class_name)\n",
    "    label='all',\n",
    "    rounded=True,\n",
    "    filled=True\n",
    ")\n"
   ]
  },
  {
   "cell_type": "code",
   "execution_count": null,
   "id": "34213270-3c7a-4873-8f46-4d8eed794339",
   "metadata": {},
   "outputs": [],
   "source": []
  }
 ],
 "metadata": {
  "kernelspec": {
   "display_name": "Python 3 (ipykernel)",
   "language": "python",
   "name": "python3"
  },
  "language_info": {
   "codemirror_mode": {
    "name": "ipython",
    "version": 3
   },
   "file_extension": ".py",
   "mimetype": "text/x-python",
   "name": "python",
   "nbconvert_exporter": "python",
   "pygments_lexer": "ipython3",
   "version": "3.9.6"
  }
 },
 "nbformat": 4,
 "nbformat_minor": 5
}
