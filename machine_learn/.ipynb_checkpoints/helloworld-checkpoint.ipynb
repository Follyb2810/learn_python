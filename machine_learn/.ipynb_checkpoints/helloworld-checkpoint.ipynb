{
 "cells": [
  {
   "cell_type": "code",
   "execution_count": 13,
   "id": "ab1725f3-f3b9-47a7-8b75-8c197a765381",
   "metadata": {},
   "outputs": [
    {
     "data": {
      "text/plain": [
       "['music-recommendation.joblib']"
      ]
     },
     "execution_count": 13,
     "metadata": {},
     "output_type": "execute_result"
    }
   ],
   "source": [
    "import pandas as pd\n",
    "from sklearn.tree import DecisionTreeClassifier\n",
    "from sklearn.model_selection import train_test_split # for test\n",
    "from sklearn.metrics import accuracy_score  # for metric\n",
    "# from sklearn.externals import joblib\n",
    "import joblib\n",
    "\n",
    "\n",
    "# Load data\n",
    "df = pd.read_csv(\"music.csv\")  # Must contain 'genre' column and features like age, gender\n",
    "\n",
    "# Prepare input and output\n",
    "# 1\n",
    "\n",
    "# X = df.drop(columns=['genre'])  # Input features\n",
    "# 2\n",
    "# y = df['genre']                 # Output label\n",
    "\n",
    "# Split into training and testing sets\n",
    "# 80% for training, 20% for testing\n",
    "# input data-set x_train,x_test\n",
    "# output data-set y_train,y_test\n",
    "# 3\n",
    "# x_train, x_test, y_train, y_test = train_test_split(X, y, test_size=0.2)\n",
    "\n",
    "# Train the model on training data\n",
    "# 4\n",
    "# model = DecisionTreeClassifier()\n",
    "# use the input and output\n",
    "# model.fit(X, y)\n",
    "# 5\n",
    "# model.fit(x_train, y_train)\n",
    "\n",
    "\n",
    "# Optional: Load the model and use it again\n",
    "# model = joblib.load('music-recommendation.joblib')\n",
    "# prediction = model.predict(x_test)\n",
    "# score = accuracy_score(y_test, prediction)\n",
    "# print(\"Accuracy:\", score)\n",
    "# Predict with feature names use this \n",
    "# input_data = pd.DataFrame([[21,1],[22,0]], columns=X.columns)\n",
    "# prediction = model.predict(input_data)\n",
    "# save dump\n",
    "# 6\n",
    "# joblib.dump(model, 'music-recommendation.joblib')\n",
    "# 7 load the model\n",
    "joblib.load('music-recommendation.joblib')\n",
    "# load the model\n",
    "# joblib.load(model,' music-recommendation.joblib')\n",
    "# Predict using the test data\n",
    "prediction = model.predict(x_test)\n",
    "\n",
    "# Evaluate accuracy of prediction compared to true labels\n",
    "# score = accuracy_score(y_test, prediction)\n",
    "\n",
    "# print(\"Accuracy:\", score)\n",
    "print(\"Predictions:\", prediction)\n"
   ]
  },
  {
   "cell_type": "code",
   "execution_count": null,
   "id": "c5f9cf9a-4031-4055-84a7-bd20b8b8358b",
   "metadata": {},
   "outputs": [],
   "source": []
  }
 ],
 "metadata": {
  "kernelspec": {
   "display_name": "Python 3 (ipykernel)",
   "language": "python",
   "name": "python3"
  },
  "language_info": {
   "codemirror_mode": {
    "name": "ipython",
    "version": 3
   },
   "file_extension": ".py",
   "mimetype": "text/x-python",
   "name": "python",
   "nbconvert_exporter": "python",
   "pygments_lexer": "ipython3",
   "version": "3.9.6"
  }
 },
 "nbformat": 4,
 "nbformat_minor": 5
}
